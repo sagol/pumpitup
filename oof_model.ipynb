{
 "cells": [
  {
   "cell_type": "code",
   "execution_count": null,
   "metadata": {
    "ExecuteTime": {
     "end_time": "2021-02-14T07:31:53.296831Z",
     "start_time": "2021-02-14T07:31:52.347275Z"
    }
   },
   "outputs": [],
   "source": [
    "import numpy as np\n",
    "import pandas as pd\n",
    "import catboost\n",
    "import time\n",
    "\n",
    "from catboost import Pool, sum_models\n",
    "from sklearn.model_selection import train_test_split\n",
    "from sklearn.metrics import balanced_accuracy_score\n",
    "from catboost import CatBoostClassifier\n",
    "from sklearn.model_selection import StratifiedKFold"
   ]
  },
  {
   "cell_type": "code",
   "execution_count": null,
   "metadata": {
    "ExecuteTime": {
     "end_time": "2021-02-14T07:31:53.302889Z",
     "start_time": "2021-02-14T07:31:53.299419Z"
    }
   },
   "outputs": [],
   "source": [
    "FOLDS = 10\n",
    "SEEDS = [0, 42, 888, 1042, 8888]\n",
    "VERSION = round(time.time())"
   ]
  },
  {
   "cell_type": "code",
   "execution_count": null,
   "metadata": {
    "ExecuteTime": {
     "end_time": "2021-02-14T07:31:53.967930Z",
     "start_time": "2021-02-14T07:31:53.305408Z"
    }
   },
   "outputs": [],
   "source": [
    "df_train_set = pd.read_csv('4910797b-ee55-40a7-8668-10efd5c1b960.csv', index_col='id')\n",
    "df_train_labels = pd.read_csv('0bf8bc6e-30d0-4c50-956a-603fc693d966.csv', index_col='id')\n",
    "df_test = pd.read_csv('702ddfc5-68cd-4d1d-a0de-f5f566f76d91.csv', index_col='id')\n"
   ]
  },
  {
   "cell_type": "code",
   "execution_count": null,
   "metadata": {
    "ExecuteTime": {
     "end_time": "2021-02-14T07:31:53.999664Z",
     "start_time": "2021-02-14T07:31:53.970432Z"
    },
    "code_folding": [
     0,
     9,
     20
    ]
   },
   "outputs": [],
   "source": [
    "def clean_installer(df):\n",
    "\n",
    "    df['installer'] = df['installer'].astype(str).str.lower()\n",
    "    df['installer'].replace(\n",
    "        to_replace=(\n",
    "            'fini water', 'fin water', 'finn water', 'finwater', 'finwate'),\n",
    "        value='finw', inplace=True)\n",
    "    df['installer'].replace(to_replace=('jaica co'), value='jaica', inplace=True)\n",
    "    df['installer'].replace(\n",
    "        to_replace=(\n",
    "            'district water department', 'district water depar', 'district council',\n",
    "            'district counci', 'village council orpha','kibaha town council',\n",
    "            'village council', 'coun', 'village counil', 'council',\n",
    "            'mbulu district council', 'counc', 'village council .oda',\n",
    "            'sangea district coun', 'songea district coun', 'villege council',\n",
    "            'district  council', 'quick win project /council', 'mbozi district council',\n",
    "            'village  council', 'municipal council', 'tabora municipal council',\n",
    "            'wb / district council'),\n",
    "        value='council', inplace=True)\n",
    "    df['installer'].replace(\n",
    "        to_replace=(\n",
    "            'rc church', 'rc churc', 'rcchurch/cefa', 'irc', 'rc', 'rc ch', 'hw/rc',\n",
    "            'rc church/central gover', 'kkkt church', 'pentecost church', 'roman church',\n",
    "            'rc/mission', 'rc church/cefa', 'lutheran church', 'tag church',\n",
    "            'free pentecoste church of tanz', 'rc c', 'church', 'rc cathoric',\n",
    "            'morovian church', 'cefa/rc church', 'rc mission', 'anglican church',\n",
    "            'church of disciples', 'anglikana church', 'cetral government /rc',\n",
    "            'pentecostal church', 'cg/rc', 'rc missionary', 'sda church', 'methodist church', 'trc',\n",
    "            'rc msufi', 'haidomu lutheran church', 'baptist church', 'rc church brother',\n",
    "            'st magreth church', 'anglica church', 'global resource co', 'rc mi',\n",
    "            'baptist church of tanzania', 'fpct church', 'rc njoro', 'rc .church',\n",
    "            'rc mis', 'batist church', 'churc', 'dwe/anglican church','missi', 'mission',\n",
    "            'ndanda missions', 'rc/mission', 'cvs miss', 'missionaries', 'hydom luthelani',\n",
    "            'luthe', 'haydom lutheran hospital', 'lutheran', 'missio', 'germany missionary',\n",
    "            'grail mission kiseki bar', 'missionary', 'heri mission', 'german missionsry',\n",
    "            'wamissionari wa kikatoriki', 'neemia mission', 'wamisionari wa kikatoriki'),\n",
    "        value='church', inplace=True)\n",
    "    df['installer'].replace(\n",
    "        to_replace=(\n",
    "            'central government', 'gove', 'central govt', 'gover', 'cipro/government',\n",
    "            'governme', 'adra /government', 'isf/government', 'adra/government',\n",
    "            'government /tcrs', 'village govt', 'government', 'government /community',\n",
    "            'concern /government', 'goverm', 'village government', 'cental government',\n",
    "            'govern', 'cebtral government', 'government /sda', 'tcrs /government',\n",
    "            'tanzania government', 'centra govt', 'colonial government', 'misri government',\n",
    "            'government and community', 'cetral government /rc', 'concern/government',\n",
    "            'government of misri', 'lwi &central government', 'governmen', 'government/tcrs', 'government /world vision',\n",
    "            'centra government'),\n",
    "        value='tanzanian government', inplace=True)\n",
    "    df['installer'].replace(\n",
    "        to_replace=(\n",
    "            'world vission', 'world division', 'word divisio','world visiin'),\n",
    "        value='world vision', inplace=True)\n",
    "    df['installer'].replace(to_replace=('unicrf'), value='unicef', inplace=True)\n",
    "    df['installer'].replace(\n",
    "        to_replace=(\n",
    "            'commu', 'olgilai village community', 'adra /community', 'adra/community',\n",
    "            'rwe/ community', 'killflora /community', 'communit', 'taboma/community',\n",
    "            'arab community', 'adra/ community', 'sekei village community', 'rwe/community',\n",
    "            'arabs community', 'village community', 'government /community',\n",
    "            'dads/village community', 'killflora/ community', 'mtuwasa and community',\n",
    "            'rwe /community', 'ilwilo community', 'summit for water/community',\n",
    "            'igolola community', 'ngiresi village community', 'rwe community',\n",
    "            'african realief committe of ku', 'twesa /community', 'shelisheli commission',\n",
    "            'twesa/ community', 'marumbo community', 'government and community',\n",
    "            'community bank', 'kitiangare village community', 'oldadai village community',\n",
    "            'twesa/community', 'tlc/community', 'maseka community', 'islamic community',\n",
    "            'district community j', 'village water commission', 'village community members',\n",
    "            'tcrs/village community', 'village water committee', 'comunity'),\n",
    "        value='community', inplace=True)\n",
    "    df['installer'].replace(\n",
    "        to_replace=(\n",
    "            'danid', 'danda','danida co', 'danny', 'daniad', 'dannida', 'danids'),\n",
    "        value='danida', inplace=True)\n",
    "    df['installer'].replace(\n",
    "        to_replace=(\n",
    "            'hesaws', 'huches', 'hesaw', 'hesawz', 'hesawq', 'hesewa'),\n",
    "        value='hesawa', inplace=True)\n",
    "    df['installer'].replace(\n",
    "        to_replace=(\n",
    "            'dwsp', 'kkkt _ konde and dwe', 'rwe/dwe', 'rwedwe', 'dwe/', 'dw', 'dwr',\n",
    "            'dwe}', 'dwt', 'dwe /tassaf', 'dwe/ubalozi wa marekani', 'consultant and dwe',\n",
    "            'dwe & lwi', 'ubalozi wa marekani /dwe', 'dwe&', 'dwe/tassaf', 'dw$',\n",
    "            'dw e', 'tcrs/dwe', 'dw#', 'dweb', 'tcrs /dwe', 'water aid/dwe', 'dww'),\n",
    "        value='dwe', inplace=True)\n",
    "    df['installer'].replace(\n",
    "        to_replace=(\n",
    "            'africa muslim', 'muslimu society(shia)', 'africa muslim agenc',\n",
    "            'african muslims age', 'muslimehefen international','islamic',\n",
    "            'the isla', 'islamic agency tanzania',  'islam', 'nyabibuye islamic center'),\n",
    "        value='muslims', inplace=True)\n",
    "    df['installer'].replace(\n",
    "        to_replace=(\n",
    "            'british colonial government', 'british government', 'britain'),\n",
    "        value='british', inplace=True)\n",
    "    df['installer'].replace(\n",
    "        to_replace=(\n",
    "            'tcrs/tlc', 'tcrs /care', 'cipro/care/tcrs', 'tcrs kibondo', 'tcrs.tlc',\n",
    "            'tcrs /twesa', 'tassaf /tcrs', 'tcrs/care', 'tcrs twesa', 'rwe/tcrs',\n",
    "            'tcrs/twesa', 'tassaf/ tcrs', 'tcrs/ tassaf', 'tcrs/ twesa', 'tcrs a',\n",
    "            'tassaf/tcrs'),\n",
    "        value='tcrs', inplace=True)\n",
    "    df['installer'].replace(\n",
    "        to_replace=(\n",
    "            'kkkt-dioces ya pare', 'kkkt leguruki', 'kkkt ndrumangeni', 'kkkt dme',\n",
    "            'kkkt kilinga', 'kkkt canal', 'kkkt katiti juu', 'kkkt mareu'),\n",
    "        value='kkkt', inplace=True)\n",
    "    df['installer'].replace(to_replace=('norad/'), value='norad', inplace=True)\n",
    "    df['installer'].replace( to_replace=('tasaf/dmdd', 'dmdd/solider'),\n",
    "        value='dmdd', inplace=True)\n",
    "    df['installer'].replace(\n",
    "        to_replace=('cjejow construction', 'cjej0'), value='cjejow', inplace=True)\n",
    "    df['installer'].replace(\n",
    "        to_replace=(\n",
    "            'china henan constuction', 'china henan contractor', 'china co.', 'chinese'),\n",
    "        value='china', inplace=True)\n",
    "    df['installer'].replace(\n",
    "        to_replace=(\n",
    "            'local contract', 'local technician', 'local', 'local  technician',\n",
    "            'locall technician', 'local te', 'local technitian', 'local technical tec',\n",
    "            'local fundi', 'local technical', 'localtechnician', 'village local contractor',\n",
    "            'local l technician'),\n",
    "        value='local', inplace=True)\n",
    "    df['installer'].replace(\n",
    "        to_replace=(\n",
    "            'oikos e .africa', 'oikos e.africa', 'africa amini alama',\n",
    "            'africa islamic agency tanzania', 'africare', 'african development foundation',\n",
    "            'oikos e. africa', 'oikos e.afrika', 'afroz ismail', 'africa', 'farm-africa',\n",
    "            'oikos e africa', 'farm africa', 'africaone', 'tina/africare', 'africaone ltd',\n",
    "            'african reflections foundation', 'africa m'),\n",
    "        value='africa', inplace=True)\n",
    "    df['installer'].replace(to_replace=('0', 'nan', '-'), value='other', inplace=True)\n",
    "    df_installer_cnt = df.groupby('installer')['installer'].count()\n",
    "    other_list = df_installer_cnt[df_installer_cnt<71].index.tolist()\n",
    "    df['installer'].replace(to_replace=other_list, value='other', inplace=True)"
   ]
  },
  {
   "cell_type": "code",
   "execution_count": null,
   "metadata": {
    "ExecuteTime": {
     "end_time": "2021-02-14T07:31:54.155285Z",
     "start_time": "2021-02-14T07:31:54.001638Z"
    },
    "code_folding": [
     0
    ]
   },
   "outputs": [],
   "source": [
    "def clean_funder(df):\n",
    "    \n",
    "    df['funder'] = df['funder'].astype(str).str.lower()\n",
    "    df['funder'].replace(\n",
    "        to_replace=(\n",
    "            'kkkt_makwale', 'kkkt-dioces ya pare', 'world vision/ kkkt', 'kkkt church',\n",
    "            'kkkt leguruki', 'kkkt ndrumangeni', 'kkkt dme', 'kkkt canal', 'kkkt usa',\n",
    "            'kkkt mareu'),\n",
    "        value='kkkt', inplace=True)\n",
    "    df['funder'].replace(\n",
    "        to_replace=(\n",
    "            'government of tanzania', 'norad /government', 'government/ community',\n",
    "            'cipro/government', 'isf/government', 'finidagermantanzania govt',\n",
    "            'government /tassaf', 'finida german tanzania govt', 'village government',\n",
    "            'tcrs /government', 'village govt', 'government/ world bank',\n",
    "            'danida /government', 'dhv/gove', 'concern /govern', 'vgovernment',\n",
    "            'lwi & central government', 'government /sda', 'koica and tanzania government',\n",
    "            'world bank/government', 'colonial government', 'misri government',\n",
    "            'government and community', 'concern/governm', 'government of misri',\n",
    "            'government/tassaf', 'government/school', 'government/tcrs', 'unhcr/government',\n",
    "            'government /world vision', 'norad/government'),\n",
    "        value='government', inplace=True)\n",
    "    df['funder'].replace(\n",
    "        to_replace=(\n",
    "            'british colonial government', 'japan government', 'china government',\n",
    "            'finland government', 'belgian government', 'italy government',\n",
    "            'irish government', 'egypt government', 'iran gover', 'swedish', 'finland'),\n",
    "        value='foreign government', inplace=True)\n",
    "    df['funder'].replace(\n",
    "        to_replace=(\n",
    "            'rc church', 'anglican church', 'rc churc', 'rc ch', 'rcchurch/cefa',\n",
    "            'irc', 'rc', 'churc', 'hw/rc', 'rc church/centr', 'pentecosta church',\n",
    "            'roman church', 'rc/mission', \"ju-sarang church' and bugango\",\n",
    "            'lutheran church', 'roman cathoric church', 'tag church ub', 'aic church',\n",
    "            'free pentecoste church of tanz', 'tag church', 'fpct church', 'rc cathoric',\n",
    "            'baptist church', 'morovian church', 'cefa/rcchurch', 'rc mission',\n",
    "            'bukwang church saints', 'agt church', 'church of disciples', 'rc mofu',\n",
    "            \"gil cafe'church'\", 'pentecostal church', 'bukwang church saint',\n",
    "            'eung am methodist church', 'rc/dwe', 'cg/rc', 'eung-am methodist church',\n",
    "            'rc missionary', 'sda church', 'methodist church', 'rc msufi',\n",
    "            'haidomu lutheran church', 'nazareth church', 'st magreth church',\n",
    "            'agape churc', 'rc missi', 'rc mi', 'rc njoro', 'world vision/rc church',\n",
    "            'pag church', 'batist church', 'full gospel church', 'nazalet church',\n",
    "            'dwe/anglican church', 'missi', 'mission', 'missionaries', 'cpps mission',\n",
    "            'cvs miss', 'grail mission kiseki bar', 'shelisheli commission', 'missionary',\n",
    "            'heri mission', 'german missionary', 'wamissionari wa kikatoriki',\n",
    "            'rc missionary', 'germany missionary', 'missio', 'neemia mission', 'rc missi',\n",
    "            'hydom luthelani', 'luthe', 'lutheran church',  'haydom lutheran hospital',\n",
    "            'village council/ haydom luther', 'lutheran', 'haidomu lutheran church',\n",
    "            'resolute golden pride project', 'resolute mininggolden pride',\n",
    "            'germany cristians'),\n",
    "        value='church', inplace=True)\n",
    "    df['funder'].replace(\n",
    "        to_replace=(\n",
    "            'olgilai village community', 'commu', 'community', 'arab community',\n",
    "            'sekei village community', 'arabs community', 'village community',\n",
    "            'mtuwasa and community', 'ilwilo community', 'igolola community',\n",
    "            'ngiresi village community', 'marumbo community', 'village communi',\n",
    "            'comune di roma', 'comunity construction fund', 'community bank',\n",
    "            \"oak'zion' and bugango b' commu\", 'kitiangare village community',\n",
    "            'oldadai village community', 'tlc/community', 'maseka community',\n",
    "            'islamic community',  'tcrs/village community', 'buluga subvillage community',\n",
    "            'okutu village community'),\n",
    "        value='community', inplace=True)\n",
    "    df['funder'].replace(\n",
    "        to_replace=(\n",
    "            'council', 'wb / district council', 'cdtfdistrict council',\n",
    "            'sangea district council', 'mheza distric counc', 'kyela council',\n",
    "            'kibaha town council', 'swidish', 'mbozi district council', \n",
    "            'village council/ rose kawala',  'songea municipal counci',\n",
    "            'quick win project /council', 'village council', 'villege council',\n",
    "            'tabora municipal council', 'kilindi district co', 'kigoma municipal council',\n",
    "            'district council', 'municipal council', 'district medical',\n",
    "            'sengerema district council', 'town council', 'mkinga  distric cou',\n",
    "            'songea district council', 'district rural project', 'mkinga distric coun',\n",
    "            'dadis'),\n",
    "        value='district', inplace=True)\n",
    "    df['funder'].replace(\n",
    "        to_replace=(\n",
    "            'tcrs.tlc', 'tcrs /care', 'tcrst', 'cipro/care/tcrs', 'tcrs/care', 'tcrs kibondo'),\n",
    "        value='tcrs', inplace=True)\n",
    "    df['funder'].replace(\n",
    "        to_replace=(\n",
    "            'fini water', 'finw', 'fin water', 'finn water', 'finwater'),\n",
    "        value='fini', inplace=True)\n",
    "    df['funder'].replace(\n",
    "        to_replace=(\n",
    "            'islamic', 'the isla', 'islamic found', 'islamic agency tanzania',\n",
    "            'islam', 'muislam', 'the islamic', 'nyabibuye islamic center', 'islamic society', 'african muslim agency',\n",
    "            'muslims', 'answeer muslim grou', 'muslimu society(shia)',\n",
    "            'unicef/african muslim agency', 'muslim world', 'muslimehefen international',\n",
    "            'shear muslim', 'muslim society'),\n",
    "        value='islam', inplace=True)\n",
    "    df['funder'].replace(\n",
    "        to_replace=('danida', 'ms-danish', 'unhcr/danida', 'tassaf/ danida'),\n",
    "        value='danida', inplace=True)\n",
    "    df['funder'].replace(\n",
    "        to_replace=(\n",
    "            'hesawa', 'hesawz', 'hesaw', 'hhesawa', 'hesawwa', 'hesawza', 'hesswa',\n",
    "            'hesawa and concern world wide'),\n",
    "        value='hesawa', inplace=True)\n",
    "    df['funder'].replace(\n",
    "        to_replace=('world vision/adra', 'game division', 'worldvision'),\n",
    "        value='world vision', inplace=True)\n",
    "    df['funder'].replace(\n",
    "        to_replace=(\n",
    "            'germany republi', 'a/co germany', 'aco/germany', 'bingo foundation germany',\n",
    "            'africa project ev germany', 'tree ways german'),\n",
    "        value='germany', inplace=True)\n",
    "    df['funder'].replace(to_replace=('0', 'nan', '-'), value='other', inplace=True)\n",
    "    df_funder_cnt = df.groupby('funder')['funder'].count()\n",
    "    other_list = df_funder_cnt[df_funder_cnt<98].index.tolist()\n",
    "    df['funder'].replace(to_replace=other_list, value='other', inplace=True)    "
   ]
  },
  {
   "cell_type": "code",
   "execution_count": null,
   "metadata": {
    "ExecuteTime": {
     "end_time": "2021-02-14T07:31:54.306179Z",
     "start_time": "2021-02-14T07:31:54.158249Z"
    }
   },
   "outputs": [],
   "source": [
    "def get_medians_df(df):\n",
    "    \n",
    "    df_geo = df.groupby(['region_code'])[['latitude', 'longitude']].median()\n",
    "    df_subvillage = df.groupby(['region_code'])['subvillage'].agg(pd.Series.mode)\n",
    "    df_scheme = df.groupby(['region'])['scheme_name'].agg(pd.Series.mode)\n",
    "    return df_geo, df_subvillage, df_scheme\n",
    "    \n",
    "    \n",
    "def geo_restore(df, df_geo):\n",
    "    \n",
    "    def geo_update(row, df_geo):\n",
    "        row['longitude'] = df_geo.loc[row['region_code']]['longitude']\n",
    "        row['latitude'] = df_geo.loc[row['region_code']]['latitude']\n",
    "        return row\n",
    "\n",
    "    df.loc[df['longitude']==0, ['longitude', 'latitude']] = \\\n",
    "        df[df['longitude']==0].apply(\n",
    "            geo_update, df_geo=df_geo, axis=1)[['longitude', 'latitude']]\n",
    "    \n",
    "    \n",
    "def scheme_restore(df, df_scheme):\n",
    "    \n",
    "    def scheme_update(row, df_scheme):\n",
    "        row['scheme_name'] = df_scheme[row['region']]\n",
    "        return row\n",
    "\n",
    "    df.loc[df['scheme_name'].isnull(), ['scheme_name']] = \\\n",
    "        df[df['scheme_name'].isnull()].apply(\n",
    "            scheme_update, df_scheme=df_scheme, axis=1)[['scheme_name']]\n",
    "    \n",
    "    \n",
    "def subvillage_restore(df, df_subvillage):\n",
    "\n",
    "    def subvillage_update(row, df_subvillage):\n",
    "        row['subvillage'] = df_subvillage[row['region_code']]\n",
    "        return row\n",
    "\n",
    "    df.loc[df['subvillage'].isnull(), ['subvillage']] = \\\n",
    "        df[df['subvillage'].isnull()].apply(\n",
    "            subvillage_update, df_subvillage=df_subvillage, axis=1)[['subvillage']]\n",
    "    \n",
    "    \n",
    "def get_medians(df):\n",
    "    \n",
    "    df_pm_median = df['public_meeting'].median()\n",
    "    df_permit_median = df['permit'].median()\n",
    "    return df_pm_median, df_permit_median\n",
    "    \n",
    "    \n",
    "def fill_na(df, df_pm_median, df_permit_median):\n",
    "    \n",
    "    df.loc[df['public_meeting'].isnull(), 'public_meeting'] = df_pm_median\n",
    "    df.loc[df['permit'].isnull(), 'permit'] = df_permit_median\n",
    "    \n",
    "    \n",
    "def create_na_features(df):    \n",
    "    \n",
    "    na_cols = ['subvillage', 'public_meeting', 'scheme_name', 'permit']\n",
    "    for c in na_cols:\n",
    "        df[f'c_na'] = df[c].isnull()  \n"
   ]
  },
  {
   "cell_type": "code",
   "execution_count": null,
   "metadata": {
    "ExecuteTime": {
     "end_time": "2021-02-14T07:31:54.430426Z",
     "start_time": "2021-02-14T07:31:54.309251Z"
    }
   },
   "outputs": [],
   "source": [
    "def drop(df):\n",
    "    \n",
    "    df.drop([\n",
    "        'scheme_management', 'quantity_group', 'water_quality', 'region_code', 'payment_type',\n",
    "        'extraction_type', 'waterpoint_type_group', 'date_recorded', 'recorded_by'],\n",
    "        axis=1, inplace=True)\n"
   ]
  },
  {
   "cell_type": "code",
   "execution_count": null,
   "metadata": {
    "ExecuteTime": {
     "end_time": "2021-02-14T07:32:10.977974Z",
     "start_time": "2021-02-14T07:31:54.436118Z"
    }
   },
   "outputs": [],
   "source": [
    "df_train = df_train_set.join(df_train_labels)\n",
    "clean_installer(df_train)\n",
    "clean_funder(df_train)\n",
    "df_geo, df_subvillage, df_scheme = get_medians_df(df_train)\n",
    "geo_restore(df_train, df_geo)\n",
    "subvillage_restore(df_train, df_subvillage)\n",
    "scheme_restore(df_train, df_scheme)\n",
    "create_na_features(df_train)\n",
    "df_pm_median, df_permit_median = get_medians(df_train)\n",
    "fill_na(df_train, df_pm_median, df_permit_median)\n",
    "drop(df_train)\n",
    "\n",
    "clean_installer(df_test)\n",
    "clean_funder(df_test)\n",
    "geo_restore(df_test, df_geo)\n",
    "subvillage_restore(df_test, df_subvillage)\n",
    "scheme_restore(df_test, df_scheme)\n",
    "create_na_features(df_test)\n",
    "fill_na(df_test, df_pm_median, df_permit_median)\n",
    "drop(df_test)"
   ]
  },
  {
   "cell_type": "code",
   "execution_count": null,
   "metadata": {
    "ExecuteTime": {
     "end_time": "2021-02-14T07:32:10.985356Z",
     "start_time": "2021-02-14T07:32:10.980829Z"
    }
   },
   "outputs": [],
   "source": [
    "def fit_model(train_pool, test_pool, **kwargs):\n",
    "    model = CatBoostClassifier(\n",
    "        max_ctr_complexity=5,\n",
    "        task_type='GPU',\n",
    "        iterations=10000,\n",
    "        eval_metric='AUC',\n",
    "        od_type='Iter',\n",
    "        od_wait=500,\n",
    "        **kwargs\n",
    "    )\n",
    "\n",
    "    return model.fit(\n",
    "        train_pool,\n",
    "        eval_set=test_pool,\n",
    "        verbose=1000,\n",
    "        plot=False,\n",
    "        use_best_model=True)"
   ]
  },
  {
   "cell_type": "code",
   "execution_count": null,
   "metadata": {
    "ExecuteTime": {
     "end_time": "2021-02-14T07:32:11.555284Z",
     "start_time": "2021-02-14T07:32:10.987291Z"
    }
   },
   "outputs": [],
   "source": [
    "num_cols = [\n",
    "    'amount_tsh', 'gps_height', 'longitude', 'latitude', 'num_private',\n",
    "    'district_code', 'population'\n",
    "]\n",
    "cat_features = [x for x in df_train.columns if x not in num_cols and x!='status_group']\n",
    "df_train[cat_features] = df_train[cat_features].astype('category')\n",
    "df_test[cat_features] = df_test[cat_features].astype('category')"
   ]
  },
  {
   "cell_type": "code",
   "execution_count": null,
   "metadata": {
    "ExecuteTime": {
     "end_time": "2021-02-14T07:32:11.560948Z",
     "start_time": "2021-02-14T07:32:11.557503Z"
    }
   },
   "outputs": [],
   "source": [
    "def classification_rate(y, y_pred):\n",
    "    return np.sum(y==y_pred)/len(y)"
   ]
  },
  {
   "cell_type": "code",
   "execution_count": null,
   "metadata": {
    "ExecuteTime": {
     "end_time": "2021-02-14T07:32:11.679175Z",
     "start_time": "2021-02-14T07:32:11.562948Z"
    }
   },
   "outputs": [],
   "source": [
    "def get_oof(n_folds, x_train, y, x_test, cat_features, seeds):\n",
    "    \n",
    "    ntrain = x_train.shape[0]\n",
    "    ntest = x_test.shape[0]  \n",
    "        \n",
    "    oof_train = np.zeros((len(seeds), ntrain, 3))\n",
    "    oof_test = np.zeros((ntest, 3))\n",
    "    oof_test_skf = np.empty((len(seeds), n_folds, ntest, 3))\n",
    "    \n",
    "    test_pool = Pool(data=x_test, cat_features=cat_features) \n",
    "    models = {}\n",
    "    \n",
    "    for iseed, seed in enumerate(seeds):\n",
    "        kf = StratifiedKFold(\n",
    "            n_splits=n_folds,\n",
    "            shuffle=True,\n",
    "            random_state=seed)          \n",
    "        for i, (train_index, test_index) in enumerate(kf.split(x_train, y)):\n",
    "            print(f'\\nSeed {seed}, Fold {i}')\n",
    "            x_tr = x_train.iloc[train_index, :]\n",
    "            y_tr = y[train_index]\n",
    "            x_te = x_train.iloc[test_index, :]\n",
    "            y_te = y[test_index]\n",
    "            train_pool = Pool(data=x_tr, label=y_tr, cat_features=cat_features)\n",
    "            valid_pool = Pool(data=x_te, label=y_te, cat_features=cat_features) \n",
    "\n",
    "            model = fit_model(\n",
    "                train_pool, valid_pool,\n",
    "                loss_function='MultiClass',\n",
    "                random_seed=seed\n",
    "            )\n",
    "            oof_train[iseed, test_index, :] = model.predict_proba(x_te)\n",
    "            oof_test_skf[iseed, i, :, :] = model.predict_proba(x_test)\n",
    "            models[(seed, i)] = model\n",
    "            model.save_model(\n",
    "                f\"cb_{seed}_{i}_{VERSION}.cbm\",\n",
    "                format=\"cbm\", export_parameters=None, pool=None)\n",
    "\n",
    "    oof_test[:, :] = oof_test_skf.mean(axis=1).mean(axis=0)\n",
    "    oof_train = oof_train.mean(axis=0)\n",
    "    return oof_train, oof_test, models"
   ]
  },
  {
   "cell_type": "code",
   "execution_count": null,
   "metadata": {
    "ExecuteTime": {
     "end_time": "2021-02-14T08:21:03.211020Z",
     "start_time": "2021-02-14T07:32:11.682129Z"
    }
   },
   "outputs": [],
   "source": [
    "y_train, X_train = df_train['status_group'], df_train.drop(['status_group'], axis=1)\n",
    "\n",
    "oof_train, oof_test, models = get_oof(\n",
    "    n_folds=FOLDS,\n",
    "    x_train=X_train,\n",
    "    y=y_train.values,\n",
    "    x_test=df_test,\n",
    "    cat_features=cat_features,\n",
    "    seeds=SEEDS)"
   ]
  },
  {
   "cell_type": "code",
   "execution_count": null,
   "metadata": {
    "ExecuteTime": {
     "end_time": "2021-02-14T08:33:43.662078Z",
     "start_time": "2021-02-14T08:33:43.059956Z"
    }
   },
   "outputs": [],
   "source": [
    "m = models[(SEEDS[0],0)]\n",
    "fea_imp = pd.DataFrame({'importance': m.feature_importances_,\n",
    "                        'col': m.feature_names_})\n",
    "fea_imp = fea_imp.sort_values(['importance', 'col'],\n",
    "                               ascending=[True, False]).iloc[-40:]\n",
    "fea_imp.plot(kind='barh', x='col', y='importance', figsize=(20, 20))"
   ]
  },
  {
   "cell_type": "code",
   "execution_count": null,
   "metadata": {
    "ExecuteTime": {
     "end_time": "2021-02-14T08:21:04.221945Z",
     "start_time": "2021-02-14T08:21:03.213161Z"
    }
   },
   "outputs": [],
   "source": [
    "y_pred_train = np.array([models[(SEEDS[0],0)].classes_[x] for x in oof_train.argmax(axis=1)])\n",
    "print(f\"balanced accuracy: {balanced_accuracy_score(y_train, y_pred_train)}\")\n",
    "class_rate = classification_rate(y_train, y_pred_train)\n",
    "print(f\"classification rate: {class_rate}\")"
   ]
  },
  {
   "cell_type": "code",
   "execution_count": null,
   "metadata": {
    "ExecuteTime": {
     "end_time": "2021-02-14T08:21:04.563161Z",
     "start_time": "2021-02-14T08:21:04.228071Z"
    }
   },
   "outputs": [],
   "source": [
    "y_pred = np.array([models[(SEEDS[0],0)].classes_[x] for x in oof_test.argmax(axis=1)])\n",
    "sub = pd.read_csv(\"SubmissionFormat.csv\", index_col='id')\n",
    "sub['status_group'] = y_pred\n",
    "sub.to_csv(f\"sub_{round(class_rate, 4)}.csv\", index=True)"
   ]
  }
 ],
 "metadata": {
  "kernelspec": {
   "display_name": "Python 3",
   "language": "python",
   "name": "python3"
  },
  "language_info": {
   "codemirror_mode": {
    "name": "ipython",
    "version": 3
   },
   "file_extension": ".py",
   "mimetype": "text/x-python",
   "name": "python",
   "nbconvert_exporter": "python",
   "pygments_lexer": "ipython3",
   "version": "3.8.6"
  }
 },
 "nbformat": 4,
 "nbformat_minor": 4
}
